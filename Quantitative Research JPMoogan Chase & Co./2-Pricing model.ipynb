{
 "cells": [
  {
   "cell_type": "code",
   "execution_count": 2,
   "id": "a3f507c6-0cba-41b8-885a-57e750c5beb6",
   "metadata": {},
   "outputs": [],
   "source": [
    "import pandas as pd\n",
    "import numpy as np\n",
    "from collections import defaultdict\n",
    "from datetime import datetime, date, timedelta"
   ]
  },
  {
   "cell_type": "code",
   "execution_count": 4,
   "id": "e11a46f7-de36-4e88-a667-2dd7e5923319",
   "metadata": {},
   "outputs": [],
   "source": [
    "df = pd.read_csv(\"Nat_Gas.csv\")"
   ]
  },
  {
   "cell_type": "code",
   "execution_count": 5,
   "id": "ad85547a-7d74-49e5-a2df-ab7169845605",
   "metadata": {},
   "outputs": [
    {
     "name": "stderr",
     "output_type": "stream",
     "text": [
      "C:\\Users\\shrey\\AppData\\Local\\Temp\\ipykernel_4492\\2452315616.py:1: UserWarning: Could not infer format, so each element will be parsed individually, falling back to `dateutil`. To ensure parsing is consistent and as-expected, please specify a format.\n",
      "  df['Dates'] = pd.to_datetime(df['Dates'])\n"
     ]
    }
   ],
   "source": [
    "df['Dates'] = pd.to_datetime(df['Dates'])"
   ]
  },
  {
   "cell_type": "code",
   "execution_count": 3,
   "id": "facfbac7-1855-426a-b989-8935f3986ee7",
   "metadata": {},
   "outputs": [],
   "source": [
    "# Function from the previous exercise\n",
    "def interpolate(date, start_date, days_from_start, prices, amplitude, shift, slope, intercept):\n",
    "    days = (date - pd.Timestamp(start_date)).days\n",
    "    if days in days_from_start:\n",
    "        # Exact match found in the data\n",
    "        return prices[days_from_start.index(days)]\n",
    "    else:\n",
    "        # Interpolate/extrapolate using the sin/cos model\n",
    "        return amplitude * np.sin(days * 2 * np.pi / 365 + shift) + days * slope + intercept"
   ]
  },
  {
   "cell_type": "code",
   "execution_count": 6,
   "id": "e1f36b23-4f66-4421-bcc8-893b06e2e97c",
   "metadata": {},
   "outputs": [],
   "source": [
    "def price_contract(\n",
    "    injection_dates,\n",
    "    withdrawal_dates,\n",
    "    price_df,\n",
    "    injection_rate,\n",
    "    withdrawal_rate,\n",
    "    max_volume,\n",
    "    storage_costs,\n",
    "    start_date\n",
    "):\n",
    "    \"\"\"\n",
    "    Calculate the value of a gas storage contract.\n",
    "\n",
    "    Parameters:\n",
    "    - injection_dates (list of str): Dates for gas injection.\n",
    "    - withdrawal_dates (list of str): Dates for gas withdrawal.\n",
    "    - price_df (pd.DataFrame): DataFrame with columns 'date' and 'price'.\n",
    "    - injection_rate (float): Maximum rate of gas injection (units per day).\n",
    "    - withdrawal_rate (float): Maximum rate of gas withdrawal (units per day).\n",
    "    - max_volume (float): Maximum storage capacity.\n",
    "    - storage_costs (float): Daily storage cost per unit of gas.\n",
    "    - start_date (str): Start date for interpolation.\n",
    "\n",
    "    Returns:\n",
    "    - float: Net value of the contract.\n",
    "    \"\"\"\n",
    "    # Constants for interpolation (Taken from the previous exercise)\n",
    "    amplitude = 0.8923322122175038\n",
    "    shift = -0.10918070215683652\n",
    "    slope = 0.0012823735987602218\n",
    "    intercept = -13.517507108630003\n",
    "\n",
    "    # Extract price data and preprocess\n",
    "    #df['date'] = pd.to_datetime(price_df['date'])\n",
    "    prices = df['Prices'].tolist()\n",
    "    days_from_start = [(d - pd.Timestamp(start_date)).days for d in df['Dates']]\n",
    "\n",
    "    def get_price(date):\n",
    "        if date in df['Dates'].values:\n",
    "            return price_df.loc[df['Dates'] == date, 'price'].iloc[0]\n",
    "        else:\n",
    "            return interpolate(date, start_date, days_from_start, prices, amplitude, shift, slope, intercept)\n",
    "\n",
    "    # Validate inputs\n",
    "    all_dates = sorted(set(injection_dates + withdrawal_dates))\n",
    "    all_dates = [pd.Timestamp(d) for d in all_dates]\n",
    "\n",
    "    # Initialize variables\n",
    "    storage_volume = 0  # Current volume in storage\n",
    "    net_value = 0  # Net value of the contract\n",
    "    cash_flows = defaultdict(float)  # Track daily cash flows\n",
    "\n",
    "    # Process injections\n",
    "    for date in injection_dates:\n",
    "        date = pd.Timestamp(date)\n",
    "        price = get_price(date)\n",
    "        inject_volume = min(injection_rate, max_volume - storage_volume)\n",
    "        if inject_volume > 0:\n",
    "            storage_volume += inject_volume\n",
    "            cash_flows[date] -= inject_volume * price  # Injection is a cost\n",
    "\n",
    "    # Process withdrawals\n",
    "    for date in withdrawal_dates:\n",
    "        date = pd.Timestamp(date)\n",
    "        price = get_price(date)\n",
    "        withdraw_volume = min(withdrawal_rate, storage_volume)\n",
    "        if withdraw_volume > 0:\n",
    "            storage_volume -= withdraw_volume\n",
    "            cash_flows[date] += withdraw_volume * price  # Withdrawal is a revenue\n",
    "\n",
    "    # Apply storage costs\n",
    "    for date in all_dates:\n",
    "        daily_cost = storage_volume * storage_costs\n",
    "        cash_flows[date] -= daily_cost\n",
    "\n",
    "    # Calculate net value of the contract\n",
    "    net_value = sum(cash_flows.values())\n",
    "\n",
    "    return net_value"
   ]
  },
  {
   "cell_type": "code",
   "execution_count": 8,
   "id": "e6e65ffa-b674-4a79-b270-a7bb569726e7",
   "metadata": {},
   "outputs": [
    {
     "name": "stdout",
     "output_type": "stream",
     "text": [
      "Net value of the contract: 48.81955805753344\n"
     ]
    }
   ],
   "source": [
    "# Example usage:\n",
    "injection_dates = [\"2024-12-01\", \"2024-12-02\"]\n",
    "withdrawal_dates = [\"2024-12-10\", \"2024-12-11\"]\n",
    "\n",
    "injection_rate = 10\n",
    "withdrawal_rate = 8\n",
    "max_volume = 50\n",
    "storage_costs = 0.5\n",
    "start_date = \"2024-12-01\"\n",
    "\n",
    "net_value = price_contract(\n",
    "    injection_dates,\n",
    "    withdrawal_dates,\n",
    "    df,\n",
    "    injection_rate,\n",
    "    withdrawal_rate,\n",
    "    max_volume,\n",
    "    storage_costs,\n",
    "    start_date\n",
    ")\n",
    "print(f\"Net value of the contract: {net_value}\")\n"
   ]
  },
  {
   "cell_type": "code",
   "execution_count": null,
   "id": "dd9d6de0-23b1-49db-9f7f-404cc684106e",
   "metadata": {},
   "outputs": [],
   "source": []
  }
 ],
 "metadata": {
  "kernelspec": {
   "display_name": "Python 3 (ipykernel)",
   "language": "python",
   "name": "python3"
  },
  "language_info": {
   "codemirror_mode": {
    "name": "ipython",
    "version": 3
   },
   "file_extension": ".py",
   "mimetype": "text/x-python",
   "name": "python",
   "nbconvert_exporter": "python",
   "pygments_lexer": "ipython3",
   "version": "3.12.1"
  }
 },
 "nbformat": 4,
 "nbformat_minor": 5
}
